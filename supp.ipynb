{
 "cells": [
  {
   "cell_type": "markdown",
   "id": "7a93af71-69b0-47a3-9ba9-6c79a7df173a",
   "metadata": {},
   "source": [
    "student number : 22324272\n",
    "Github Acc : CeboKunene"
   ]
  },
  {
   "cell_type": "code",
   "execution_count": 6,
   "id": "076a86a2-b553-4851-8326-71fa4fb645df",
   "metadata": {},
   "outputs": [],
   "source": [
    "import pandas as pd\n",
    "import numpy as np\n",
    "from sklearn.model_selection import train_test_split\n",
    "from sklearn.preprocessing import StandardScaler\n",
    "from sklearn.ensemble import RandomForestRegressor\n",
    "from sklearn.metrics import mean_absolute_error, mean_squared_error\n",
    "import matplotlib.pyplot as plt\n"
   ]
  },
  {
   "cell_type": "markdown",
   "id": "7bdac957-a5b2-4196-9f81-d784e1db1868",
   "metadata": {},
   "source": [
    "​\n",
    "dataset link : \"https://www.kaggle.com/datasets/muhammadehsan02/healthcare-prediction-dataset\"\n",
    "\n",
    "* I have choose this healthcare prediction data because it provides simulated data for healthcare prediction analysis, with features that could help model healthcare demand."
   ]
  },
  {
   "cell_type": "code",
   "execution_count": 7,
   "id": "14042b6a-9acd-4690-b105-3bc74e568616",
   "metadata": {},
   "outputs": [
    {
     "name": "stdout",
     "output_type": "stream",
     "text": [
      "            Name  Age  Gender Blood Type Medical Condition Date of Admission  \\\n",
      "0  Bobby JacksOn   30    Male         B-            Cancer        2024-01-31   \n",
      "1   LesLie TErRy   62    Male         A+           Obesity        2019-08-20   \n",
      "2    DaNnY sMitH   76  Female         A-           Obesity        2022-09-22   \n",
      "3   andrEw waTtS   28  Female         O+          Diabetes        2020-11-18   \n",
      "4  adrIENNE bEll   43  Female        AB+            Cancer        2022-09-19   \n",
      "\n",
      "             Doctor                    Hospital Insurance Provider  \\\n",
      "0     Matthew Smith             Sons and Miller         Blue Cross   \n",
      "1   Samantha Davies                     Kim Inc           Medicare   \n",
      "2  Tiffany Mitchell                    Cook PLC              Aetna   \n",
      "3       Kevin Wells  Hernandez Rogers and Vang,           Medicare   \n",
      "4    Kathleen Hanna                 White-White              Aetna   \n",
      "\n",
      "   Billing Amount  Room Number Admission Type Discharge Date   Medication  \\\n",
      "0    18856.281306          328         Urgent     2024-02-02  Paracetamol   \n",
      "1    33643.327287          265      Emergency     2019-08-26    Ibuprofen   \n",
      "2    27955.096079          205      Emergency     2022-10-07      Aspirin   \n",
      "3    37909.782410          450       Elective     2020-12-18    Ibuprofen   \n",
      "4    14238.317814          458         Urgent     2022-10-09   Penicillin   \n",
      "\n",
      "   Test Results  \n",
      "0        Normal  \n",
      "1  Inconclusive  \n",
      "2        Normal  \n",
      "3      Abnormal  \n",
      "4      Abnormal  \n",
      "Name                  0\n",
      "Age                   0\n",
      "Gender                0\n",
      "Blood Type            0\n",
      "Medical Condition     0\n",
      "Date of Admission     0\n",
      "Doctor                0\n",
      "Hospital              0\n",
      "Insurance Provider    0\n",
      "Billing Amount        0\n",
      "Room Number           0\n",
      "Admission Type        0\n",
      "Discharge Date        0\n",
      "Medication            0\n",
      "Test Results          0\n",
      "dtype: int64\n",
      "(55500, 15)\n"
     ]
    }
   ],
   "source": [
    "data = pd.read_csv(\"C:/Users/Mcibhasi/Documents/exam/healthcare_prediction_dataset.csv\")\n",
    "\n",
    "\n",
    "print(data.head())\n",
    "data.columns\n",
    "print(data.isnull().sum())  # Check for any missing values\n",
    "print(data.shape)           # Check the number of rows and columns\n"
   ]
  },
  {
   "cell_type": "code",
   "execution_count": null,
   "id": "53ce2379-d5ec-4dd2-a6c4-1a1a5dd63a19",
   "metadata": {},
   "outputs": [],
   "source": [
    "\n",
    "\n",
    "\n",
    "data.fillna(data.mean(), inplace=True)\n",
    "\n",
    "\n",
    "label_encoder = LabelEncoder()\n",
    "categorical_columns = ['Gender', 'Blood Type', 'Medical Condition', 'Doctor', 'Insurance Provider', 'Admission Type']\n",
    "for col in categorical_columns:\n",
    "    data[col] = label_encoder.fit_transform(data[col])\n",
    "\n",
    "\n",
    "X = data.drop('Billing Amount', axis=1)\n",
    "y = data['Billing Amount']\n",
    "\n",
    "\n",
    "X_train, X_test, y_train, y_test = train_test_split(X, y, test_size=0.2, random_state=42)\n",
    "\n",
    "\n",
    "scaler = StandardScaler()\n",
    "X_train_scaled = scaler.fit_transform(X_train)\n",
    "X_test_scaled = scaler.transform(X_test)\n",
    "\n"
   ]
  },
  {
   "cell_type": "code",
   "execution_count": null,
   "id": "bf5fbe22-d24a-4c4b-9088-7c8d4cb2707b",
   "metadata": {},
   "outputs": [],
   "source": [
    "\n",
    "model = RandomForestRegressor(n_estimators=100, random_state=42)\n",
    "\n",
    "\n",
    "model.fit(X_train_scaled, y_train)\n"
   ]
  },
  {
   "cell_type": "code",
   "execution_count": null,
   "id": "5393ce07-985b-4d99-be2c-d977e5efaa46",
   "metadata": {},
   "outputs": [],
   "source": [
    "\n",
    "y_pred = model.predict(X_test_scaled)\n",
    "\n",
    "\n",
    "mae = mean_absolute_error(y_test, y_pred)\n",
    "rmse = np.sqrt(mean_squared_error(y_test, y_pred))\n",
    "\n",
    "print(f\"Mean Absolute Error (MAE): {mae}\")\n",
    "print(f\"Root Mean Squared Error (RMSE): {rmse}\")\n"
   ]
  },
  {
   "cell_type": "code",
   "execution_count": null,
   "id": "9a009865-97a0-4214-b307-8d854c4a631c",
   "metadata": {},
   "outputs": [],
   "source": [
    "\n",
    "plt.scatter(y_test, y_pred)\n",
    "plt.xlabel(\"Actual Billing Amount (Demand)\")\n",
    "plt.ylabel(\"Predicted Billing Amount\")\n",
    "plt.title(\"Actual vs Predicted Healthcare Demand\")\n",
    "plt.show()\n"
   ]
  }
 ],
 "metadata": {
  "kernelspec": {
   "display_name": "Python 3 (ipykernel)",
   "language": "python",
   "name": "python3"
  },
  "language_info": {
   "codemirror_mode": {
    "name": "ipython",
    "version": 3
   },
   "file_extension": ".py",
   "mimetype": "text/x-python",
   "name": "python",
   "nbconvert_exporter": "python",
   "pygments_lexer": "ipython3",
   "version": "3.12.6"
  }
 },
 "nbformat": 4,
 "nbformat_minor": 5
}
